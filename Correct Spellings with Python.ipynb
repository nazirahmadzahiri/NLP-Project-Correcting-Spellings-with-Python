{
 "cells": [
  {
   "cell_type": "code",
   "execution_count": 12,
   "id": "c07f35c3",
   "metadata": {},
   "outputs": [
    {
     "name": "stdout",
     "output_type": "stream",
     "text": [
      "Wrong words : ['Machne', 'Learnin']\n",
      "Corrected Words are :\n",
      "Machine Learning "
     ]
    }
   ],
   "source": [
    "#TextBlob is a Python library for processing text data. It provides a simple API \n",
    "#for delving into common natural language processing tasks such as tagging part of speech, \n",
    "#extracting nominal sentences, analyzing feelings, classifying, translating, and more.\n",
    "\n",
    "\n",
    "from textblob import TextBlob\n",
    "words = [\"Machne\", \"Learnin\"]\n",
    "corrected_words = []\n",
    "for i in words:\n",
    "    corrected_words.append(TextBlob(i))\n",
    "print(\"Wrong words :\", words)\n",
    "print(\"Corrected Words are :\")\n",
    "for i in corrected_words:\n",
    "    print(i.correct(), end=\" \")"
   ]
  },
  {
   "cell_type": "code",
   "execution_count": null,
   "id": "cd699b96",
   "metadata": {},
   "outputs": [],
   "source": []
  }
 ],
 "metadata": {
  "kernelspec": {
   "display_name": "Python 3",
   "language": "python",
   "name": "python3"
  },
  "language_info": {
   "codemirror_mode": {
    "name": "ipython",
    "version": 3
   },
   "file_extension": ".py",
   "mimetype": "text/x-python",
   "name": "python",
   "nbconvert_exporter": "python",
   "pygments_lexer": "ipython3",
   "version": "3.8.8"
  }
 },
 "nbformat": 4,
 "nbformat_minor": 5
}
